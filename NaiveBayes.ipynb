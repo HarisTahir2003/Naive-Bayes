{
 "cells": [
  {
   "cell_type": "markdown",
   "metadata": {},
   "source": [
    "<h1> <center> <strong> Naive Bayes </strong> </center> </h1>"
   ]
  },
  {
   "cell_type": "markdown",
   "metadata": {},
   "source": [
    "### Introduction\n",
    "\n",
    "In this notebook, you will be implementing a Multi-Nomial Naive Bayes model.\n",
    "\n",
    "Your task is to:\n",
    "1. Implement the **Multinomial Naive Bayes** from scratch, adhering to the guidelines below regarding allowed libraries.\n",
    "2. Apply the model using the `sklearn` library and compare the results with your own implementation."
   ]
  },
  {
   "cell_type": "markdown",
   "metadata": {},
   "source": [
    "<h3> <strong> 1) Library Imports </strong> </h3>"
   ]
  },
  {
   "cell_type": "code",
   "execution_count": 1,
   "metadata": {},
   "outputs": [
    {
     "name": "stdout",
     "output_type": "stream",
     "text": [
      "Requirement already satisfied: datasets in /opt/anaconda3/envs/AI_env/lib/python3.12/site-packages (2.19.1)\n",
      "Requirement already satisfied: filelock in /opt/anaconda3/envs/AI_env/lib/python3.12/site-packages (from datasets) (3.13.1)\n",
      "Requirement already satisfied: numpy>=1.17 in /opt/anaconda3/envs/AI_env/lib/python3.12/site-packages (from datasets) (1.26.4)\n",
      "Requirement already satisfied: pyarrow>=12.0.0 in /opt/anaconda3/envs/AI_env/lib/python3.12/site-packages (from datasets) (14.0.2)\n",
      "Requirement already satisfied: dill<0.3.9,>=0.3.0 in /opt/anaconda3/envs/AI_env/lib/python3.12/site-packages (from datasets) (0.3.8)\n",
      "Requirement already satisfied: pandas in /opt/anaconda3/envs/AI_env/lib/python3.12/site-packages (from datasets) (2.2.2)\n",
      "Requirement already satisfied: requests>=2.19.0 in /opt/anaconda3/envs/AI_env/lib/python3.12/site-packages (from datasets) (2.31.0)\n",
      "Requirement already satisfied: tqdm>=4.62.1 in /opt/anaconda3/envs/AI_env/lib/python3.12/site-packages (from datasets) (4.66.5)\n",
      "Requirement already satisfied: xxhash in /opt/anaconda3/envs/AI_env/lib/python3.12/site-packages (from datasets) (3.5.0)\n",
      "Requirement already satisfied: multiprocess in /opt/anaconda3/envs/AI_env/lib/python3.12/site-packages (from datasets) (0.70.16)\n",
      "Requirement already satisfied: fsspec<=2024.3.1,>=2023.1.0 in /opt/anaconda3/envs/AI_env/lib/python3.12/site-packages (from fsspec[http]<=2024.3.1,>=2023.1.0->datasets) (2023.10.0)\n",
      "Requirement already satisfied: aiohttp in /opt/anaconda3/envs/AI_env/lib/python3.12/site-packages (from datasets) (3.10.6)\n",
      "Requirement already satisfied: huggingface-hub>=0.21.2 in /opt/anaconda3/envs/AI_env/lib/python3.12/site-packages (from datasets) (0.25.1)\n",
      "Requirement already satisfied: packaging in /opt/anaconda3/envs/AI_env/lib/python3.12/site-packages (from datasets) (23.2)\n",
      "Requirement already satisfied: pyyaml>=5.1 in /opt/anaconda3/envs/AI_env/lib/python3.12/site-packages (from datasets) (6.0.2)\n",
      "Requirement already satisfied: aiohappyeyeballs>=2.3.0 in /opt/anaconda3/envs/AI_env/lib/python3.12/site-packages (from aiohttp->datasets) (2.4.2)\n",
      "Requirement already satisfied: aiosignal>=1.1.2 in /opt/anaconda3/envs/AI_env/lib/python3.12/site-packages (from aiohttp->datasets) (1.3.1)\n",
      "Requirement already satisfied: attrs>=17.3.0 in /opt/anaconda3/envs/AI_env/lib/python3.12/site-packages (from aiohttp->datasets) (23.2.0)\n",
      "Requirement already satisfied: frozenlist>=1.1.1 in /opt/anaconda3/envs/AI_env/lib/python3.12/site-packages (from aiohttp->datasets) (1.4.1)\n",
      "Requirement already satisfied: multidict<7.0,>=4.5 in /opt/anaconda3/envs/AI_env/lib/python3.12/site-packages (from aiohttp->datasets) (6.1.0)\n",
      "Requirement already satisfied: yarl<2.0,>=1.12.0 in /opt/anaconda3/envs/AI_env/lib/python3.12/site-packages (from aiohttp->datasets) (1.13.0)\n",
      "Requirement already satisfied: typing-extensions>=3.7.4.3 in /opt/anaconda3/envs/AI_env/lib/python3.12/site-packages (from huggingface-hub>=0.21.2->datasets) (4.12.2)\n",
      "Requirement already satisfied: charset-normalizer<4,>=2 in /opt/anaconda3/envs/AI_env/lib/python3.12/site-packages (from requests>=2.19.0->datasets) (2.0.4)\n",
      "Requirement already satisfied: idna<4,>=2.5 in /opt/anaconda3/envs/AI_env/lib/python3.12/site-packages (from requests>=2.19.0->datasets) (3.4)\n",
      "Requirement already satisfied: urllib3<3,>=1.21.1 in /opt/anaconda3/envs/AI_env/lib/python3.12/site-packages (from requests>=2.19.0->datasets) (2.1.0)\n",
      "Requirement already satisfied: certifi>=2017.4.17 in /opt/anaconda3/envs/AI_env/lib/python3.12/site-packages (from requests>=2.19.0->datasets) (2024.8.30)\n",
      "Requirement already satisfied: python-dateutil>=2.8.2 in /opt/anaconda3/envs/AI_env/lib/python3.12/site-packages (from pandas->datasets) (2.8.2)\n",
      "Requirement already satisfied: pytz>=2020.1 in /opt/anaconda3/envs/AI_env/lib/python3.12/site-packages (from pandas->datasets) (2024.1)\n",
      "Requirement already satisfied: tzdata>=2022.7 in /opt/anaconda3/envs/AI_env/lib/python3.12/site-packages (from pandas->datasets) (2024.1)\n",
      "Requirement already satisfied: six>=1.5 in /opt/anaconda3/envs/AI_env/lib/python3.12/site-packages (from python-dateutil>=2.8.2->pandas->datasets) (1.16.0)\n",
      "Requirement already satisfied: nltk in /opt/anaconda3/envs/AI_env/lib/python3.12/site-packages (3.9.1)\n",
      "Requirement already satisfied: click in /opt/anaconda3/envs/AI_env/lib/python3.12/site-packages (from nltk) (7.1.2)\n",
      "Requirement already satisfied: joblib in /opt/anaconda3/envs/AI_env/lib/python3.12/site-packages (from nltk) (1.4.2)\n",
      "Requirement already satisfied: regex>=2021.8.3 in /opt/anaconda3/envs/AI_env/lib/python3.12/site-packages (from nltk) (2024.9.11)\n",
      "Requirement already satisfied: tqdm in /opt/anaconda3/envs/AI_env/lib/python3.12/site-packages (from nltk) (4.66.5)\n"
     ]
    }
   ],
   "source": [
    "!pip install datasets\n",
    "!pip install nltk"
   ]
  },
  {
   "cell_type": "code",
   "execution_count": 2,
   "metadata": {},
   "outputs": [
    {
     "name": "stderr",
     "output_type": "stream",
     "text": [
      "[nltk_data] Downloading package punkt to /Users/harisrana/nltk_data...\n",
      "[nltk_data]   Package punkt is already up-to-date!\n"
     ]
    },
    {
     "data": {
      "text/plain": [
       "True"
      ]
     },
     "execution_count": 2,
     "metadata": {},
     "output_type": "execute_result"
    }
   ],
   "source": [
    "import numpy as np\n",
    "import regex as re\n",
    "import pandas as pd\n",
    "import seaborn as sns\n",
    "import matplotlib.pyplot as plt\n",
    "\n",
    "from sklearn.model_selection import train_test_split\n",
    "from sklearn.metrics import accuracy_score, precision_score, recall_score, f1_score, confusion_matrix, classification_report\n",
    "\n",
    "import nltk\n",
    "from nltk.corpus import stopwords\n",
    "from datasets import load_dataset\n",
    "from sklearn.naive_bayes import MultinomialNB\n",
    "\n",
    "nltk.download(\"punkt\")"
   ]
  },
  {
   "cell_type": "markdown",
   "metadata": {},
   "source": [
    "<h3> <strong> 2) Loading Dataset </strong> </h3>\n",
    "\n",
    "In this assignment, you are provided with the following dataset:\n",
    "- Tweet Evaluation Dataset (to be loaded from Hugging Face)\n",
    "\n",
    "**Tweet Evaluation Dataset**: Instead of downloading the dataset manually, we will be using the [`datasets`](https://huggingface.co/docs/datasets) library from Hugging Face to automatically download and manage the Tweet Eval dataset. This library is part of the Hugging Face ecosystem, widely used for Natural Language Processing (NLP) tasks. The `datasets` library not only downloads the dataset but also offers a standardized interface for accessing and handling the data, making it compatible with other popular libraries like Pandas and PyTorch. Format each split of the dataset into a Pandas DataFrame. The columns should be `text` and `label`, where `text` is the sentence and `label` is the emotion label. The goal is to classify tweets into various emotional categories (e.g., joy, sadness, anger) by analyzing their content.\n",
    "\n",
    "   You can explore the extensive list of datasets available on Hugging Face [here](https://huggingface.co/datasets)."
   ]
  },
  {
   "cell_type": "code",
   "execution_count": 3,
   "metadata": {},
   "outputs": [],
   "source": [
    "tweet_data = load_dataset('tweet_eval', 'emotion', cache_dir=\"datasets\")\n",
    "\n",
    "train_data = pd.DataFrame(tweet_data['train'])\n",
    "train_data.to_csv('emotion_train_data.csv', index=False)\n",
    "\n",
    "validation_data = pd.DataFrame(tweet_data['validation'])\n",
    "validation_data.to_csv('emotion_validation_data.csv', index=False)\n",
    "\n",
    "test_data = pd.DataFrame(tweet_data['test'])\n",
    "test_data.to_csv('emotion_test_data.csv', index=False)"
   ]
  },
  {
   "cell_type": "code",
   "execution_count": 5,
   "metadata": {},
   "outputs": [
    {
     "name": "stdout",
     "output_type": "stream",
     "text": [
      "Shape of tweets train data:  (3257, 2)\n",
      "Shape of tweets validation data:  (374, 2)\n",
      "Shape of tweets test data:  (1421, 2)\n"
     ]
    }
   ],
   "source": [
    "print(\"Shape of tweets train data: \", train_data.shape)\n",
    "print(\"Shape of tweets validation data: \", validation_data.shape)\n",
    "print(\"Shape of tweets test data: \", test_data.shape)"
   ]
  },
  {
   "cell_type": "markdown",
   "metadata": {},
   "source": [
    "<h3> <strong> 3) Data Preprocessing </strong> </h3>"
   ]
  },
  {
   "cell_type": "markdown",
   "metadata": {},
   "source": [
    "At this stage, you need to pre-process your data to ensure it's in a clean format for further analysis. The following steps should be performed:\n",
    "\n",
    "- Remove any URL.\n",
    "- Remove punctuation and non-alphanumeric characters.\n",
    "- Convert all text to lowercase.\n",
    "- Remove any extra whitespace.\n",
    "- Eliminate common stopwords.\n",
    "\n",
    "You can utilize the `re` library for cleaning text and the `nltk` library for removing stopwords.\n",
    "Once the function is complete, apply it to the `text` column of your dataset to obtain the preprocessed text."
   ]
  },
  {
   "cell_type": "code",
   "execution_count": 6,
   "metadata": {},
   "outputs": [
    {
     "name": "stderr",
     "output_type": "stream",
     "text": [
      "[nltk_data] Downloading package stopwords to\n",
      "[nltk_data]     /Users/harisrana/nltk_data...\n",
      "[nltk_data]   Package stopwords is already up-to-date!\n"
     ]
    }
   ],
   "source": [
    "nltk.download('stopwords')\n",
    "stop_words = set(stopwords.words('english'))\n",
    "\n",
    "def preprocess_dataset(text):\n",
    "    text = re.sub(r'http\\S+|www\\S+|https\\S+', '', text)\n",
    "    text = re.sub(r'[^\\w\\s]', '', text)\n",
    "    text = text.lower()\n",
    "    text = re.sub(r'\\s+', ' ', text).strip()\n",
    "    text = ' '.join([word for word in text.split() if word not in stop_words])\n",
    "    return text\n",
    "\n",
    "train_data['processed_text'] = train_data['text'].apply(preprocess_dataset)\n",
    "validation_data['processed_text'] = validation_data['text'].apply(preprocess_dataset)\n",
    "test_data['processed_text'] = test_data['text'].apply(preprocess_dataset)"
   ]
  },
  {
   "cell_type": "markdown",
   "metadata": {},
   "source": [
    "<h3> <strong> 4) Implementation of the Manual Naive Bayes Model </strong> </h3>"
   ]
  },
  {
   "cell_type": "markdown",
   "metadata": {},
   "source": [
    "##### Vectorizing sentences with Bag of Words\n",
    "\n",
    "Now that we have loaded in our data, we will need to vectorize our sentences - this is necessary to be able to numericalize our inputs before feeding them into our model. \n",
    "\n",
    "We will be using a Bag of Words approach to vectorize our sentences. This is a simple approach that counts the number of times each word appears in a sentence. \n",
    "\n",
    "The element at index $\\text{i}$ of the vector will be the number of times the $\\text{i}^{\\text{th}}$ word in our vocabulary appears in the sentence. So, for example, if our vocabulary is `[\"the\", \"cat\", \"sat\", \"on\", \"mat\"]`, and our sentence is `\"the cat sat on the mat\"`, then our vector will be `[2, 1, 1, 1, 1]`.\n",
    "\n",
    "You will now create a `BagOfWords` class to vectorize our sentences. This will involve creating\n",
    "\n",
    "1. A vocabulary from our corpus\n",
    "\n",
    "2. A mapping from words to indices in our vocabulary\n",
    "\n",
    "3. A function to vectorize a sentence in the fashion described above"
   ]
  },
  {
   "cell_type": "code",
   "execution_count": 7,
   "metadata": {},
   "outputs": [],
   "source": [
    "class BagOfWords:\n",
    "    def __init__(self):\n",
    "        self.vocabulary = {}\n",
    "    \n",
    "    def fit(self, texts):\n",
    "        for text in texts:\n",
    "            for word in text.split():\n",
    "                if word not in self.vocabulary:\n",
    "                    self.vocabulary[word] = len(self.vocabulary)\n",
    "    \n",
    "    def vectorize(self, text):\n",
    "        vector = np.zeros(len(self.vocabulary), dtype=int) \n",
    "        for word in text.split():\n",
    "            if word in self.vocabulary:\n",
    "                vector[self.vocabulary[word]] += 1\n",
    "        return vector"
   ]
  },
  {
   "cell_type": "markdown",
   "metadata": {},
   "source": [
    "For a sanity check, you can manually set the vocabulary of your `BagOfWords` object to the vocabulary of the example above, and check that the vectorization of the sentence is correct.\n",
    "\n",
    "Once you have implemented the `BagOfWords` class, fit it to the training data, and vectorize the training, validation, and test data."
   ]
  },
  {
   "cell_type": "code",
   "execution_count": 8,
   "metadata": {},
   "outputs": [
    {
     "name": "stdout",
     "output_type": "stream",
     "text": [
      "Vectorized sentence: [3 1 1 2 1]\n"
     ]
    }
   ],
   "source": [
    "bow1 = BagOfWords()\n",
    "bow1.vocabulary = {\"the\": 0, \"cat\": 1, \"sat\": 2, \"on\": 3, \"mat\": 4}\n",
    "sentence = \"the the cat sat on on the mat\"\n",
    "vector = bow1.vectorize(sentence)\n",
    "print(\"Vectorized sentence:\", vector)"
   ]
  },
  {
   "cell_type": "code",
   "execution_count": 9,
   "metadata": {},
   "outputs": [],
   "source": [
    "bow2 = BagOfWords()\n",
    "bow2.fit(train_data['processed_text'])\n",
    "\n",
    "train_data_vectors = np.array([bow2.vectorize(text) for text in train_data['processed_text']])\n",
    "validation_data_vectors = np.array([bow2.vectorize(text) for text in validation_data['processed_text']])\n",
    "test_data_vectors = np.array([bow2.vectorize(text) for text in test_data['processed_text']])"
   ]
  },
  {
   "cell_type": "markdown",
   "metadata": {},
   "source": [
    "\n",
    "\n",
    "#### What is the Naive Bayes Model?\n",
    "\n",
    "Now that we have vectorized our sentences, we can implement our Naive Bayes model. Recall that the Naive Bayes model is based off of the Bayes Theorem:\n",
    "\n",
    "$$\n",
    "P(y \\mid x) = \\frac{P(x \\mid y)P(y)}{P(x)}\n",
    "$$\n",
    "\n",
    "What we really want is to find the class $c$ that maximizes $P(c \\mid x)$, so we can use the following equation:\n",
    "\n",
    "$$\n",
    "\\hat{c} = \\underset{c}{\\text{argmax}} \\ P(c \\mid x) = \\underset{c}{\\text{argmax}} \\ P(x \\mid c)P(c)\n",
    "$$\n",
    "\n",
    "We can then use the Naive Bayes assumption to simplify this:\n",
    "\n",
    "$$\n",
    "\\hat{c} = \\underset{c}{\\text{argmax}} \\ P(c \\mid x) = \\underset{c}{\\text{argmax}} \\ P(c) \\prod_{i=1}^{n} P(x_i \\mid c)\n",
    "$$\n",
    "\n",
    "Where $x_i$ is the $i^{\\text{th}}$ word in our sentence.\n",
    "\n",
    "All of these probabilities can be estimated from our training data. We can estimate $P(c)$ by counting the number of times each class appears in our training data, and dividing by the total number of training examples. We can estimate $P(x_i \\mid c)$ by counting the number of times the $i^{\\text{th}}$ word in our vocabulary appears in sentences of class $c$, and dividing by the total number of words in sentences of class $c$.\n",
    "\n",
    "It would help to apply logarithms to the above equation so that we translate the product into a sum, and avoid underflow errors. This will give us the following equation:\n",
    "\n",
    "$$\n",
    "\\hat{c} = \\underset{c}{\\text{argmax}} \\ \\log P(c) + \\sum_{i=1}^{n} \\log P(x_i \\mid c)\n",
    "$$"
   ]
  },
  {
   "cell_type": "code",
   "execution_count": 10,
   "metadata": {},
   "outputs": [],
   "source": [
    "def train_MNB(X, y):\n",
    "    classes, counts = np.unique(y, return_counts=True)\n",
    "    num_classes = len(classes)\n",
    "    priors = counts / len(y)\n",
    "    num_features = X.shape[1]  \n",
    "    likelihoods = np.zeros((num_classes, num_features))\n",
    "\n",
    "    i = 0\n",
    "    for class_label in classes:\n",
    "        X_class = X[y == class_label] \n",
    "        word_count = X_class.sum() \n",
    "        likelihoods[i, :] = (X_class.sum(axis=0) + 1) / (word_count + num_features)\n",
    "        i = i + 1 \n",
    "\n",
    "    return priors, likelihoods, classes\n",
    "\n",
    "def MNB_classifier(X, class_priors, likelihoods, classes):\n",
    "    log_probabilities = np.zeros((X.shape[0], len(classes)))\n",
    "\n",
    "    for i in range(len(classes)):\n",
    "        class_label = classes[i]\n",
    "        log_prior = np.log(class_priors[i])\n",
    "        log_likelihood = np.log(likelihoods[i, :])\n",
    "        log_probabilities[:, i] = log_prior + np.dot(X, log_likelihood.T)\n",
    "\n",
    "    return classes[np.argmax(log_probabilities, axis=1)]"
   ]
  },
  {
   "cell_type": "markdown",
   "metadata": {},
   "source": [
    "Now use your implementation to train a Naive Bayes model on the training data, and generate predictions for the Validation Set.\n",
    "\n",
    "Report the Accuracy, Precision, Recall, and F1 score of your model on the validation data. Also display the Confusion Matrix. You are allowed to use `sklearn.metrics` for this."
   ]
  },
  {
   "cell_type": "markdown",
   "metadata": {},
   "source": [
    "<h3> <strong> 5) Testing the Model on Validation Data Set </strong> </h3>"
   ]
  },
  {
   "cell_type": "code",
   "execution_count": 11,
   "metadata": {},
   "outputs": [],
   "source": [
    "class_priors, likelihoods, classes = train_MNB(train_data_vectors, train_data['label'].values)\n",
    "validation_predictions = np.array(MNB_classifier(validation_data_vectors, class_priors, likelihoods, classes))\n",
    "validation_actual = validation_data['label'].values"
   ]
  },
  {
   "cell_type": "code",
   "execution_count": 12,
   "metadata": {},
   "outputs": [],
   "source": [
    "def make_heat_map(confusion_matrix, title):\n",
    "  plt.figure(figsize=(10, 4))\n",
    "  sns.heatmap(confusion_matrix, fmt=\"d\", annot= True, cmap= \"Blues\", cbar= True)\n",
    "  plt.title(title)\n",
    "  plt.xlabel(\"True Label\")\n",
    "  plt.ylabel(\"Predicted Label\")\n",
    "  plt.show()\n",
    "\n",
    "def evaluate(y_actual, y_predicted, class_labels):\n",
    "    accuracy = accuracy_score(y_actual, y_predicted)\n",
    "    print(f\"Accuracy: {accuracy * 100:.2f}%\\n\")\n",
    "    \n",
    "    print(\"Classification Report:\")\n",
    "    print(classification_report(y_actual, y_predicted, target_names=list(map(str, class_labels))))\n",
    "    \n",
    "    cm = confusion_matrix(y_actual, y_predicted, labels=class_labels)\n",
    "    make_heat_map(cm, \"Confusion Matrix\")"
   ]
  },
  {
   "cell_type": "code",
   "execution_count": 13,
   "metadata": {},
   "outputs": [
    {
     "name": "stdout",
     "output_type": "stream",
     "text": [
      "Accuracy: 64.97%\n",
      "\n",
      "Classification Report:\n",
      "              precision    recall  f1-score   support\n",
      "\n",
      "           0       0.63      0.88      0.74       160\n",
      "           1       0.75      0.45      0.56        97\n",
      "           2       1.00      0.14      0.25        28\n",
      "           3       0.61      0.61      0.61        89\n",
      "\n",
      "    accuracy                           0.65       374\n",
      "   macro avg       0.75      0.52      0.54       374\n",
      "weighted avg       0.68      0.65      0.63       374\n",
      "\n"
     ]
    },
    {
     "data": {
      "image/png": "[encoded data removed]",
      "text/plain": [
       "<Figure size 1000x400 with 2 Axes>"
      ]
     },
     "metadata": {},
     "output_type": "display_data"
    }
   ],
   "source": [
    "evaluate(validation_actual, validation_predictions, classes)"
   ]
  },
  {
   "cell_type": "markdown",
   "metadata": {},
   "source": [
    "<h3> <strong> 6) Testing the Model on Test Data Set </strong> </h3>"
   ]
  },
  {
   "cell_type": "code",
   "execution_count": 14,
   "metadata": {},
   "outputs": [],
   "source": [
    "class_priors, likelihoods, classes = train_MNB(train_data_vectors, train_data['label'].values)\n",
    "test_predictions = np.array(MNB_classifier(test_data_vectors, class_priors, likelihoods, classes))\n",
    "test_actual = test_data['label'].values"
   ]
  },
  {
   "cell_type": "code",
   "execution_count": 15,
   "metadata": {},
   "outputs": [
    {
     "name": "stdout",
     "output_type": "stream",
     "text": [
      "Accuracy: 65.38%\n",
      "\n",
      "Classification Report:\n",
      "              precision    recall  f1-score   support\n",
      "\n",
      "           0       0.61      0.90      0.73       558\n",
      "           1       0.78      0.49      0.60       358\n",
      "           2       0.67      0.11      0.19       123\n",
      "           3       0.66      0.63      0.64       382\n",
      "\n",
      "    accuracy                           0.65      1421\n",
      "   macro avg       0.68      0.53      0.54      1421\n",
      "weighted avg       0.67      0.65      0.63      1421\n",
      "\n"
     ]
    },
    {
     "data": {
      "image/png": "[encoded data removed]",
      "text/plain": [
       "<Figure size 1000x400 with 2 Axes>"
      ]
     },
     "metadata": {},
     "output_type": "display_data"
    }
   ],
   "source": [
    "evaluate(test_actual, test_predictions, classes)"
   ]
  },
  {
   "cell_type": "markdown",
   "metadata": {},
   "source": [
    "<h3> <strong> 7) Implementation of the Sklearn Naive Bayes Model </strong> </h3>"
   ]
  },
  {
   "cell_type": "code",
   "execution_count": 16,
   "metadata": {},
   "outputs": [
    {
     "name": "stdout",
     "output_type": "stream",
     "text": [
      "Sklearn Multinomial Naive Bayes Accuracy for validation data set: 64.97%\n",
      "Manual Multinomial Naive Bayes Accuracy for validation data set: 64.97% \n",
      "\n",
      "Sklearn Multinomial Naive Bayes Accuracy for test data set: 65.38%\n",
      "Manual Multinomial Naive Bayes Accuracy for test data set: 65.38%\n"
     ]
    }
   ],
   "source": [
    "y_train = train_data['label'].values  \n",
    "y_validation = validation_data['label'].values\n",
    "y_test = test_data['label'].values\n",
    "\n",
    "mnb = MultinomialNB()\n",
    "mnb.fit(train_data_vectors, y_train)\n",
    "\n",
    "y_validation_predicted_sklearn_MNB = mnb.predict(validation_data_vectors) \n",
    "y_test_predicted_sklearn_MNB = mnb.predict(test_data_vectors) \n",
    "\n",
    "sklearn_accuracy_validation = accuracy_score(y_validation, y_validation_predicted_sklearn_MNB) \n",
    "sklearn_accuracy_test = accuracy_score(y_test, y_test_predicted_sklearn_MNB)  \n",
    "manual_accuracy_validation = accuracy_score(y_validation, validation_predictions)  \n",
    "manual_accuracy_test = accuracy_score(y_test, test_predictions)  \n",
    "\n",
    "print(f\"Sklearn Multinomial Naive Bayes Accuracy for validation data set: {sklearn_accuracy_validation * 100:.2f}%\")\n",
    "print(f\"Manual Multinomial Naive Bayes Accuracy for validation data set: {manual_accuracy_validation * 100:.2f}% \\n\")\n",
    "print(f\"Sklearn Multinomial Naive Bayes Accuracy for test data set: {sklearn_accuracy_test * 100:.2f}%\")\n",
    "print(f\"Manual Multinomial Naive Bayes Accuracy for test data set: {manual_accuracy_test * 100:.2f}%\")"
   ]
  }
 ],
 "metadata": {
  "kernelspec": {
   "display_name": "Python 3.11.4 64-bit",
   "language": "python",
   "name": "python3"
  },
  "language_info": {
   "codemirror_mode": {
    "name": "ipython",
    "version": 3
   },
   "file_extension": ".py",
   "mimetype": "text/x-python",
   "name": "python",
   "nbconvert_exporter": "python",
   "pygments_lexer": "ipython3",
   "version": "3.12.3"
  },
  "vscode": {
   "interpreter": {
    "hash": "ff4b1fca65a764b45acb559e482afe389d289dd599b9f8c5fd12ff5c2ea46a65"
   }
  }
 },
 "nbformat": 4,
 "nbformat_minor": 2
}
